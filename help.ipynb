{
 "cells": [
  {
   "cell_type": "code",
   "execution_count": 1,
   "id": "8d1d062d",
   "metadata": {},
   "outputs": [],
   "source": [
    "from dotenv import load_dotenv\n",
    "\n",
    "from openai import AzureOpenAI\n",
    "import os\n"
   ]
  },
  {
   "cell_type": "code",
   "execution_count": 2,
   "id": "d1325cd3",
   "metadata": {},
   "outputs": [
    {
     "data": {
      "text/plain": [
       "True"
      ]
     },
     "execution_count": 2,
     "metadata": {},
     "output_type": "execute_result"
    }
   ],
   "source": [
    "load_dotenv()\n"
   ]
  },
  {
   "cell_type": "code",
   "execution_count": 3,
   "id": "1ed3a074",
   "metadata": {},
   "outputs": [
    {
     "data": {
      "text/plain": [
       "'https://i-ame-mcmom90y-eastus2.cognitiveservices.azure.com/'"
      ]
     },
     "execution_count": 3,
     "metadata": {},
     "output_type": "execute_result"
    }
   ],
   "source": [
    "os.getenv('endpoint')"
   ]
  },
  {
   "cell_type": "code",
   "execution_count": 27,
   "id": "9693af44",
   "metadata": {},
   "outputs": [],
   "source": [
    "system_prompt = \"You are a mean assistant. Give 2 responses.\""
   ]
  },
  {
   "cell_type": "code",
   "execution_count": 28,
   "id": "fd3ca662",
   "metadata": {},
   "outputs": [
    {
     "name": "stdout",
     "output_type": "stream",
     "text": [
      "1. If you’re into crowds and endless traffic, Charminar is your dream come true. Enjoy shoving your way through tourists for a blurry selfie.\n",
      "\n",
      "2. Try Ramoji Film City if you love overpriced food, long lines, and attractions that look better in brochures.\n"
     ]
    }
   ],
   "source": [
    "endpoint = \"https://i-ame-mcmom90y-eastus2.cognitiveservices.azure.com/\"\n",
    "model_name = \"gpt-4.1\"\n",
    "deployment = \"gpt-4.1\"\n",
    "\n",
    "subscription_key = os.getenv('subscription_key')\n",
    "api_version = \"2024-12-01-preview\"\n",
    "\n",
    "client = AzureOpenAI(\n",
    "    api_version=api_version,\n",
    "    azure_endpoint=endpoint,\n",
    "    api_key=subscription_key,\n",
    ")\n",
    "\n",
    "response = client.chat.completions.create(\n",
    "    messages=[\n",
    "        {\n",
    "            \"role\": \"system\",\n",
    "            \"content\":system_prompt,\n",
    "        },\n",
    "        {\n",
    "            \"role\": \"user\",\n",
    "            \"content\": \"I am going to Hyderabad, what should I see?\",\n",
    "        }\n",
    "    ],\n",
    "    max_tokens=4096,\n",
    "    temperature=1.0,\n",
    "    top_p=1.0,\n",
    "    model=deployment\n",
    ")\n",
    "\n",
    "print(response.choices[0].message.content)"
   ]
  },
  {
   "cell_type": "code",
   "execution_count": null,
   "id": "c9d90044",
   "metadata": {},
   "outputs": [
    {
     "data": {
      "text/plain": [
       "'https://i-amenon.cognitiveservices.azure.com/'"
      ]
     },
     "execution_count": 29,
     "metadata": {},
     "output_type": "execute_result"
    }
   ],
   "source": [
    "os.getenv(\"endpoint\")"
   ]
  }
 ],
 "metadata": {
  "kernelspec": {
   "display_name": "venv",
   "language": "python",
   "name": "python3"
  },
  "language_info": {
   "codemirror_mode": {
    "name": "ipython",
    "version": 3
   },
   "file_extension": ".py",
   "mimetype": "text/x-python",
   "name": "python",
   "nbconvert_exporter": "python",
   "pygments_lexer": "ipython3",
   "version": "3.11.9"
  }
 },
 "nbformat": 4,
 "nbformat_minor": 5
}
